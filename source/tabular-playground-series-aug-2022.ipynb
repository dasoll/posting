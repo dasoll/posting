{
 "cells": [
  {
   "cell_type": "code",
   "execution_count": 5,
   "id": "89d94c4e",
   "metadata": {},
   "outputs": [
    {
     "name": "stdout",
     "output_type": "stream",
     "text": [
      "Downloading tabular-playground-series-aug-2022.zip to /Users/dasolseo/Documents/GitHub/posting/source\n",
      " 88%|█████████████████████████████████▍    | 2.00M/2.27M [00:00<00:00, 2.41MB/s]\n",
      "100%|██████████████████████████████████████| 2.27M/2.27M [00:00<00:00, 2.42MB/s]\n"
     ]
    }
   ],
   "source": [
    "!kaggle competitions download -c tabular-playground-series-aug-2022"
   ]
  },
  {
   "cell_type": "code",
   "execution_count": 7,
   "id": "9e3b9fac",
   "metadata": {},
   "outputs": [],
   "source": [
    "import pandas as pd\n",
    "\n",
    "train = pd.read_csv('../input/tabular-playground-series-aug-2022/train.csv')\n",
    "test = pd.read_csv('../input/tabular-playground-series-aug-2022/test.csv')\n",
    "target = train['failure']\n",
    "train.drop('failure',axis=1, inplace = True)\n",
    "train.shape,test.shape"
   ]
  }
 ],
 "metadata": {
  "kernelspec": {
   "display_name": "Python 3 (ipykernel)",
   "language": "python",
   "name": "python3"
  },
  "language_info": {
   "codemirror_mode": {
    "name": "ipython",
    "version": 3
   },
   "file_extension": ".py",
   "mimetype": "text/x-python",
   "name": "python",
   "nbconvert_exporter": "python",
   "pygments_lexer": "ipython3",
   "version": "3.9.12"
  }
 },
 "nbformat": 4,
 "nbformat_minor": 5
}
